{
 "cells": [
  {
   "cell_type": "code",
   "execution_count": 1,
   "metadata": {
    "ExecuteTime": {
     "end_time": "2016-12-02T22:43:08.398064",
     "start_time": "2016-12-02T22:42:58.996932"
    },
    "collapsed": false
   },
   "outputs": [],
   "source": [
    "import pandas as pd\n",
    "import requests\n",
    "import os\n",
    "import mysql.connector\n",
    "from sqlalchemy import create_engine\n",
    "import json\n",
    "from pandas.io.json import json_normalize\n",
    "from slugify import slugify\n",
    "\n",
    "r = requests.get(\"http://landlordwatchlist.com/search.js\")\n",
    "data = json.loads(r.text.split(\";\")[0].replace(\"var markers = \", ''))\n",
    "df = json_normalize(data)\n",
    "\n",
    "cols = [slugify(unicode(i.strip().replace(\" \",\"_\").replace(\"#\",\"num\"))) for i in df.columns]\n",
    "df.columns = cols\n",
    "\n",
    "int_cols = [\n",
    "    'a_units',\n",
    "    'bin',\n",
    "    'b_units',\n",
    "    'buildingid',\n",
    "    'dof',\n",
    "    'landlordid',\n",
    "    'rank',\n",
    "    'units',\n",
    "    'zip',\n",
    "    'a',\n",
    "    'b',\n",
    "    'c',\n",
    "    'dob',\n",
    "    'dob_hpd',\n",
    "    'exclude',\n",
    "    'i',\n",
    "    'lat', #FLOAT\n",
    "    'lng', #FLOAT\n",
    "    'num',\n",
    "    'score', #FLOAT\n",
    "    'worstlandlord'\n",
    "]\n",
    "for col in int_cols:\n",
    "    df[col] = pd.to_numeric(df[col], errors='coerce')\n",
    "\n",
    "user = os.environ['MYSQL_USER']\n",
    "host = os.environ['MYSQL_HOST']\n",
    "pw = os.environ['MYSQL_PASSWORD']\n",
    "db = os.environ['MYSQL_DATABASE_DATA']\n",
    "\n",
    "# user = 'root'\n",
    "# host = 'localhost'\n",
    "# pw = ''\n",
    "# db = 'heatseek'\n",
    "\n",
    "conn_str = \"mysql+mysqlconnector://{0}:{1}@{2}/{3}\".format(user, pw, host, db)\n",
    "engine = create_engine(conn_str, echo=False)\n",
    "\n",
    "df.to_sql(name='pubadv_worst_landlords', con=engine, if_exists = 'replace', index=False, chunksize=2500)"
   ]
  },
  {
   "cell_type": "code",
   "execution_count": null,
   "metadata": {
    "collapsed": true
   },
   "outputs": [],
   "source": []
  }
 ],
 "metadata": {
  "anaconda-cloud": {},
  "kernelspec": {
   "display_name": "Python [default]",
   "language": "python",
   "name": "python2"
  },
  "language_info": {
   "codemirror_mode": {
    "name": "ipython",
    "version": 2
   },
   "file_extension": ".py",
   "mimetype": "text/x-python",
   "name": "python",
   "nbconvert_exporter": "python",
   "pygments_lexer": "ipython2",
   "version": "2.7.12"
  },
  "nav_menu": {},
  "toc": {
   "navigate_menu": true,
   "number_sections": true,
   "sideBar": true,
   "threshold": 6,
   "toc_cell": false,
   "toc_section_display": "block",
   "toc_window_display": false
  }
 },
 "nbformat": 4,
 "nbformat_minor": 1
}
